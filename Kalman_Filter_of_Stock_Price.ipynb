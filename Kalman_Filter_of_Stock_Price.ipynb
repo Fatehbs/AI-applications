{
  "nbformat": 4,
  "nbformat_minor": 0,
  "metadata": {
    "colab": {
      "provenance": [],
      "include_colab_link": true
    },
    "kernelspec": {
      "name": "python3",
      "display_name": "Python 3"
    },
    "language_info": {
      "name": "python"
    }
  },
  "cells": [
    {
      "cell_type": "markdown",
      "metadata": {
        "id": "view-in-github",
        "colab_type": "text"
      },
      "source": [
        "<a href=\"https://colab.research.google.com/github/Fatehbs/AI-applications/blob/main/Kalman_Filter_of_Stock_Price.ipynb\" target=\"_parent\"><img src=\"https://colab.research.google.com/assets/colab-badge.svg\" alt=\"Open In Colab\"/></a>"
      ]
    },
    {
      "cell_type": "code",
      "execution_count": null,
      "metadata": {
        "id": "sj7BktbIm5R0"
      },
      "outputs": [],
      "source": [
        "import numpy as np\n",
        "import pandas as pd\n",
        "import seaborn as sns\n",
        "import yfinance as yf"
      ]
    },
    {
      "cell_type": "code",
      "source": [
        "sigma_x = 0.003\n",
        "sigma_m = 0.005"
      ],
      "metadata": {
        "id": "KB-cGECwrroF"
      },
      "execution_count": null,
      "outputs": []
    },
    {
      "cell_type": "code",
      "source": [
        "TICKER = \"INFY\""
      ],
      "metadata": {
        "id": "Lroz0eIcJ4IF"
      },
      "execution_count": null,
      "outputs": []
    },
    {
      "cell_type": "code",
      "source": [
        "nifty = yf.Ticker(TICKER)"
      ],
      "metadata": {
        "id": "uhRfYKfgoIlT"
      },
      "execution_count": null,
      "outputs": []
    },
    {
      "cell_type": "code",
      "source": [
        "data_df = nifty.history(period = '1y')"
      ],
      "metadata": {
        "id": "0mzeDvMvozNu"
      },
      "execution_count": null,
      "outputs": []
    },
    {
      "cell_type": "code",
      "source": [
        "S0 = data_df['Close'][0]"
      ],
      "metadata": {
        "id": "xnq39Ca-xpGd"
      },
      "execution_count": null,
      "outputs": []
    },
    {
      "cell_type": "code",
      "source": [
        "calc_df = pd.DataFrame({\n",
        "    'S' : data_df['Close']\n",
        "})"
      ],
      "metadata": {
        "id": "scF6My5Fo8Lm"
      },
      "execution_count": null,
      "outputs": []
    },
    {
      "cell_type": "code",
      "source": [
        "calc_df.eval('log_S = log(S)', inplace = True)"
      ],
      "metadata": {
        "id": "LaxaNWNCpP86"
      },
      "execution_count": null,
      "outputs": []
    },
    {
      "cell_type": "code",
      "source": [
        "calc_df['prev_log_S'] = calc_df['log_S'].shift(1)"
      ],
      "metadata": {
        "id": "Tuw993IBq0aN"
      },
      "execution_count": null,
      "outputs": []
    },
    {
      "cell_type": "code",
      "source": [
        "calc_df = calc_df.dropna()"
      ],
      "metadata": {
        "id": "t6mXSYcwq7ZK"
      },
      "execution_count": null,
      "outputs": []
    },
    {
      "cell_type": "code",
      "source": [
        "calc_df.eval('r = log_S - prev_log_S', inplace = True)"
      ],
      "metadata": {
        "id": "XQlN4f10rH0i"
      },
      "execution_count": null,
      "outputs": []
    },
    {
      "cell_type": "code",
      "source": [
        "calc_df"
      ],
      "metadata": {
        "colab": {
          "base_uri": "https://localhost:8080/",
          "height": 455
        },
        "id": "KZqbLlGtz1Uv",
        "outputId": "4516cc51-5ec8-40da-be11-008cb0c6db5f"
      },
      "execution_count": null,
      "outputs": [
        {
          "output_type": "execute_result",
          "data": {
            "text/plain": [
              "                                   S     log_S  prev_log_S         r\n",
              "Date                                                                \n",
              "2023-05-16 00:00:00-04:00  14.716437  2.688965    2.704072 -0.015107\n",
              "2023-05-17 00:00:00-04:00  14.794353  2.694246    2.688965  0.005280\n",
              "2023-05-18 00:00:00-04:00  14.755395  2.691609    2.694246 -0.002637\n",
              "2023-05-19 00:00:00-04:00  14.852791  2.698188    2.691609  0.006579\n",
              "2023-05-22 00:00:00-04:00  15.242372  2.724079    2.698188  0.025891\n",
              "...                              ...       ...         ...       ...\n",
              "2024-05-08 00:00:00-04:00  17.090000  2.838494    2.840831 -0.002338\n",
              "2024-05-09 00:00:00-04:00  16.969999  2.831447    2.838494 -0.007046\n",
              "2024-05-10 00:00:00-04:00  16.870001  2.825537    2.831447 -0.005910\n",
              "2024-05-13 00:00:00-04:00  16.920000  2.828496    2.825537  0.002959\n",
              "2024-05-14 00:00:00-04:00  16.950001  2.830268    2.828496  0.001772\n",
              "\n",
              "[251 rows x 4 columns]"
            ],
            "text/html": [
              "\n",
              "  <div id=\"df-1757727a-8c5c-4b2a-a0e5-a707b3e81a30\" class=\"colab-df-container\">\n",
              "    <div>\n",
              "<style scoped>\n",
              "    .dataframe tbody tr th:only-of-type {\n",
              "        vertical-align: middle;\n",
              "    }\n",
              "\n",
              "    .dataframe tbody tr th {\n",
              "        vertical-align: top;\n",
              "    }\n",
              "\n",
              "    .dataframe thead th {\n",
              "        text-align: right;\n",
              "    }\n",
              "</style>\n",
              "<table border=\"1\" class=\"dataframe\">\n",
              "  <thead>\n",
              "    <tr style=\"text-align: right;\">\n",
              "      <th></th>\n",
              "      <th>S</th>\n",
              "      <th>log_S</th>\n",
              "      <th>prev_log_S</th>\n",
              "      <th>r</th>\n",
              "    </tr>\n",
              "    <tr>\n",
              "      <th>Date</th>\n",
              "      <th></th>\n",
              "      <th></th>\n",
              "      <th></th>\n",
              "      <th></th>\n",
              "    </tr>\n",
              "  </thead>\n",
              "  <tbody>\n",
              "    <tr>\n",
              "      <th>2023-05-16 00:00:00-04:00</th>\n",
              "      <td>14.716437</td>\n",
              "      <td>2.688965</td>\n",
              "      <td>2.704072</td>\n",
              "      <td>-0.015107</td>\n",
              "    </tr>\n",
              "    <tr>\n",
              "      <th>2023-05-17 00:00:00-04:00</th>\n",
              "      <td>14.794353</td>\n",
              "      <td>2.694246</td>\n",
              "      <td>2.688965</td>\n",
              "      <td>0.005280</td>\n",
              "    </tr>\n",
              "    <tr>\n",
              "      <th>2023-05-18 00:00:00-04:00</th>\n",
              "      <td>14.755395</td>\n",
              "      <td>2.691609</td>\n",
              "      <td>2.694246</td>\n",
              "      <td>-0.002637</td>\n",
              "    </tr>\n",
              "    <tr>\n",
              "      <th>2023-05-19 00:00:00-04:00</th>\n",
              "      <td>14.852791</td>\n",
              "      <td>2.698188</td>\n",
              "      <td>2.691609</td>\n",
              "      <td>0.006579</td>\n",
              "    </tr>\n",
              "    <tr>\n",
              "      <th>2023-05-22 00:00:00-04:00</th>\n",
              "      <td>15.242372</td>\n",
              "      <td>2.724079</td>\n",
              "      <td>2.698188</td>\n",
              "      <td>0.025891</td>\n",
              "    </tr>\n",
              "    <tr>\n",
              "      <th>...</th>\n",
              "      <td>...</td>\n",
              "      <td>...</td>\n",
              "      <td>...</td>\n",
              "      <td>...</td>\n",
              "    </tr>\n",
              "    <tr>\n",
              "      <th>2024-05-08 00:00:00-04:00</th>\n",
              "      <td>17.090000</td>\n",
              "      <td>2.838494</td>\n",
              "      <td>2.840831</td>\n",
              "      <td>-0.002338</td>\n",
              "    </tr>\n",
              "    <tr>\n",
              "      <th>2024-05-09 00:00:00-04:00</th>\n",
              "      <td>16.969999</td>\n",
              "      <td>2.831447</td>\n",
              "      <td>2.838494</td>\n",
              "      <td>-0.007046</td>\n",
              "    </tr>\n",
              "    <tr>\n",
              "      <th>2024-05-10 00:00:00-04:00</th>\n",
              "      <td>16.870001</td>\n",
              "      <td>2.825537</td>\n",
              "      <td>2.831447</td>\n",
              "      <td>-0.005910</td>\n",
              "    </tr>\n",
              "    <tr>\n",
              "      <th>2024-05-13 00:00:00-04:00</th>\n",
              "      <td>16.920000</td>\n",
              "      <td>2.828496</td>\n",
              "      <td>2.825537</td>\n",
              "      <td>0.002959</td>\n",
              "    </tr>\n",
              "    <tr>\n",
              "      <th>2024-05-14 00:00:00-04:00</th>\n",
              "      <td>16.950001</td>\n",
              "      <td>2.830268</td>\n",
              "      <td>2.828496</td>\n",
              "      <td>0.001772</td>\n",
              "    </tr>\n",
              "  </tbody>\n",
              "</table>\n",
              "<p>251 rows × 4 columns</p>\n",
              "</div>\n",
              "    <div class=\"colab-df-buttons\">\n",
              "\n",
              "  <div class=\"colab-df-container\">\n",
              "    <button class=\"colab-df-convert\" onclick=\"convertToInteractive('df-1757727a-8c5c-4b2a-a0e5-a707b3e81a30')\"\n",
              "            title=\"Convert this dataframe to an interactive table.\"\n",
              "            style=\"display:none;\">\n",
              "\n",
              "  <svg xmlns=\"http://www.w3.org/2000/svg\" height=\"24px\" viewBox=\"0 -960 960 960\">\n",
              "    <path d=\"M120-120v-720h720v720H120Zm60-500h600v-160H180v160Zm220 220h160v-160H400v160Zm0 220h160v-160H400v160ZM180-400h160v-160H180v160Zm440 0h160v-160H620v160ZM180-180h160v-160H180v160Zm440 0h160v-160H620v160Z\"/>\n",
              "  </svg>\n",
              "    </button>\n",
              "\n",
              "  <style>\n",
              "    .colab-df-container {\n",
              "      display:flex;\n",
              "      gap: 12px;\n",
              "    }\n",
              "\n",
              "    .colab-df-convert {\n",
              "      background-color: #E8F0FE;\n",
              "      border: none;\n",
              "      border-radius: 50%;\n",
              "      cursor: pointer;\n",
              "      display: none;\n",
              "      fill: #1967D2;\n",
              "      height: 32px;\n",
              "      padding: 0 0 0 0;\n",
              "      width: 32px;\n",
              "    }\n",
              "\n",
              "    .colab-df-convert:hover {\n",
              "      background-color: #E2EBFA;\n",
              "      box-shadow: 0px 1px 2px rgba(60, 64, 67, 0.3), 0px 1px 3px 1px rgba(60, 64, 67, 0.15);\n",
              "      fill: #174EA6;\n",
              "    }\n",
              "\n",
              "    .colab-df-buttons div {\n",
              "      margin-bottom: 4px;\n",
              "    }\n",
              "\n",
              "    [theme=dark] .colab-df-convert {\n",
              "      background-color: #3B4455;\n",
              "      fill: #D2E3FC;\n",
              "    }\n",
              "\n",
              "    [theme=dark] .colab-df-convert:hover {\n",
              "      background-color: #434B5C;\n",
              "      box-shadow: 0px 1px 3px 1px rgba(0, 0, 0, 0.15);\n",
              "      filter: drop-shadow(0px 1px 2px rgba(0, 0, 0, 0.3));\n",
              "      fill: #FFFFFF;\n",
              "    }\n",
              "  </style>\n",
              "\n",
              "    <script>\n",
              "      const buttonEl =\n",
              "        document.querySelector('#df-1757727a-8c5c-4b2a-a0e5-a707b3e81a30 button.colab-df-convert');\n",
              "      buttonEl.style.display =\n",
              "        google.colab.kernel.accessAllowed ? 'block' : 'none';\n",
              "\n",
              "      async function convertToInteractive(key) {\n",
              "        const element = document.querySelector('#df-1757727a-8c5c-4b2a-a0e5-a707b3e81a30');\n",
              "        const dataTable =\n",
              "          await google.colab.kernel.invokeFunction('convertToInteractive',\n",
              "                                                    [key], {});\n",
              "        if (!dataTable) return;\n",
              "\n",
              "        const docLinkHtml = 'Like what you see? Visit the ' +\n",
              "          '<a target=\"_blank\" href=https://colab.research.google.com/notebooks/data_table.ipynb>data table notebook</a>'\n",
              "          + ' to learn more about interactive tables.';\n",
              "        element.innerHTML = '';\n",
              "        dataTable['output_type'] = 'display_data';\n",
              "        await google.colab.output.renderOutput(dataTable, element);\n",
              "        const docLink = document.createElement('div');\n",
              "        docLink.innerHTML = docLinkHtml;\n",
              "        element.appendChild(docLink);\n",
              "      }\n",
              "    </script>\n",
              "  </div>\n",
              "\n",
              "\n",
              "<div id=\"df-edc6caf8-5197-4b10-8cee-8fdb8509a7ee\">\n",
              "  <button class=\"colab-df-quickchart\" onclick=\"quickchart('df-edc6caf8-5197-4b10-8cee-8fdb8509a7ee')\"\n",
              "            title=\"Suggest charts\"\n",
              "            style=\"display:none;\">\n",
              "\n",
              "<svg xmlns=\"http://www.w3.org/2000/svg\" height=\"24px\"viewBox=\"0 0 24 24\"\n",
              "     width=\"24px\">\n",
              "    <g>\n",
              "        <path d=\"M19 3H5c-1.1 0-2 .9-2 2v14c0 1.1.9 2 2 2h14c1.1 0 2-.9 2-2V5c0-1.1-.9-2-2-2zM9 17H7v-7h2v7zm4 0h-2V7h2v10zm4 0h-2v-4h2v4z\"/>\n",
              "    </g>\n",
              "</svg>\n",
              "  </button>\n",
              "\n",
              "<style>\n",
              "  .colab-df-quickchart {\n",
              "      --bg-color: #E8F0FE;\n",
              "      --fill-color: #1967D2;\n",
              "      --hover-bg-color: #E2EBFA;\n",
              "      --hover-fill-color: #174EA6;\n",
              "      --disabled-fill-color: #AAA;\n",
              "      --disabled-bg-color: #DDD;\n",
              "  }\n",
              "\n",
              "  [theme=dark] .colab-df-quickchart {\n",
              "      --bg-color: #3B4455;\n",
              "      --fill-color: #D2E3FC;\n",
              "      --hover-bg-color: #434B5C;\n",
              "      --hover-fill-color: #FFFFFF;\n",
              "      --disabled-bg-color: #3B4455;\n",
              "      --disabled-fill-color: #666;\n",
              "  }\n",
              "\n",
              "  .colab-df-quickchart {\n",
              "    background-color: var(--bg-color);\n",
              "    border: none;\n",
              "    border-radius: 50%;\n",
              "    cursor: pointer;\n",
              "    display: none;\n",
              "    fill: var(--fill-color);\n",
              "    height: 32px;\n",
              "    padding: 0;\n",
              "    width: 32px;\n",
              "  }\n",
              "\n",
              "  .colab-df-quickchart:hover {\n",
              "    background-color: var(--hover-bg-color);\n",
              "    box-shadow: 0 1px 2px rgba(60, 64, 67, 0.3), 0 1px 3px 1px rgba(60, 64, 67, 0.15);\n",
              "    fill: var(--button-hover-fill-color);\n",
              "  }\n",
              "\n",
              "  .colab-df-quickchart-complete:disabled,\n",
              "  .colab-df-quickchart-complete:disabled:hover {\n",
              "    background-color: var(--disabled-bg-color);\n",
              "    fill: var(--disabled-fill-color);\n",
              "    box-shadow: none;\n",
              "  }\n",
              "\n",
              "  .colab-df-spinner {\n",
              "    border: 2px solid var(--fill-color);\n",
              "    border-color: transparent;\n",
              "    border-bottom-color: var(--fill-color);\n",
              "    animation:\n",
              "      spin 1s steps(1) infinite;\n",
              "  }\n",
              "\n",
              "  @keyframes spin {\n",
              "    0% {\n",
              "      border-color: transparent;\n",
              "      border-bottom-color: var(--fill-color);\n",
              "      border-left-color: var(--fill-color);\n",
              "    }\n",
              "    20% {\n",
              "      border-color: transparent;\n",
              "      border-left-color: var(--fill-color);\n",
              "      border-top-color: var(--fill-color);\n",
              "    }\n",
              "    30% {\n",
              "      border-color: transparent;\n",
              "      border-left-color: var(--fill-color);\n",
              "      border-top-color: var(--fill-color);\n",
              "      border-right-color: var(--fill-color);\n",
              "    }\n",
              "    40% {\n",
              "      border-color: transparent;\n",
              "      border-right-color: var(--fill-color);\n",
              "      border-top-color: var(--fill-color);\n",
              "    }\n",
              "    60% {\n",
              "      border-color: transparent;\n",
              "      border-right-color: var(--fill-color);\n",
              "    }\n",
              "    80% {\n",
              "      border-color: transparent;\n",
              "      border-right-color: var(--fill-color);\n",
              "      border-bottom-color: var(--fill-color);\n",
              "    }\n",
              "    90% {\n",
              "      border-color: transparent;\n",
              "      border-bottom-color: var(--fill-color);\n",
              "    }\n",
              "  }\n",
              "</style>\n",
              "\n",
              "  <script>\n",
              "    async function quickchart(key) {\n",
              "      const quickchartButtonEl =\n",
              "        document.querySelector('#' + key + ' button');\n",
              "      quickchartButtonEl.disabled = true;  // To prevent multiple clicks.\n",
              "      quickchartButtonEl.classList.add('colab-df-spinner');\n",
              "      try {\n",
              "        const charts = await google.colab.kernel.invokeFunction(\n",
              "            'suggestCharts', [key], {});\n",
              "      } catch (error) {\n",
              "        console.error('Error during call to suggestCharts:', error);\n",
              "      }\n",
              "      quickchartButtonEl.classList.remove('colab-df-spinner');\n",
              "      quickchartButtonEl.classList.add('colab-df-quickchart-complete');\n",
              "    }\n",
              "    (() => {\n",
              "      let quickchartButtonEl =\n",
              "        document.querySelector('#df-edc6caf8-5197-4b10-8cee-8fdb8509a7ee button');\n",
              "      quickchartButtonEl.style.display =\n",
              "        google.colab.kernel.accessAllowed ? 'block' : 'none';\n",
              "    })();\n",
              "  </script>\n",
              "</div>\n",
              "\n",
              "  <div id=\"id_f32f7aa6-9a72-46aa-a588-a95f07afb002\">\n",
              "    <style>\n",
              "      .colab-df-generate {\n",
              "        background-color: #E8F0FE;\n",
              "        border: none;\n",
              "        border-radius: 50%;\n",
              "        cursor: pointer;\n",
              "        display: none;\n",
              "        fill: #1967D2;\n",
              "        height: 32px;\n",
              "        padding: 0 0 0 0;\n",
              "        width: 32px;\n",
              "      }\n",
              "\n",
              "      .colab-df-generate:hover {\n",
              "        background-color: #E2EBFA;\n",
              "        box-shadow: 0px 1px 2px rgba(60, 64, 67, 0.3), 0px 1px 3px 1px rgba(60, 64, 67, 0.15);\n",
              "        fill: #174EA6;\n",
              "      }\n",
              "\n",
              "      [theme=dark] .colab-df-generate {\n",
              "        background-color: #3B4455;\n",
              "        fill: #D2E3FC;\n",
              "      }\n",
              "\n",
              "      [theme=dark] .colab-df-generate:hover {\n",
              "        background-color: #434B5C;\n",
              "        box-shadow: 0px 1px 3px 1px rgba(0, 0, 0, 0.15);\n",
              "        filter: drop-shadow(0px 1px 2px rgba(0, 0, 0, 0.3));\n",
              "        fill: #FFFFFF;\n",
              "      }\n",
              "    </style>\n",
              "    <button class=\"colab-df-generate\" onclick=\"generateWithVariable('calc_df')\"\n",
              "            title=\"Generate code using this dataframe.\"\n",
              "            style=\"display:none;\">\n",
              "\n",
              "  <svg xmlns=\"http://www.w3.org/2000/svg\" height=\"24px\"viewBox=\"0 0 24 24\"\n",
              "       width=\"24px\">\n",
              "    <path d=\"M7,19H8.4L18.45,9,17,7.55,7,17.6ZM5,21V16.75L18.45,3.32a2,2,0,0,1,2.83,0l1.4,1.43a1.91,1.91,0,0,1,.58,1.4,1.91,1.91,0,0,1-.58,1.4L9.25,21ZM18.45,9,17,7.55Zm-12,3A5.31,5.31,0,0,0,4.9,8.1,5.31,5.31,0,0,0,1,6.5,5.31,5.31,0,0,0,4.9,4.9,5.31,5.31,0,0,0,6.5,1,5.31,5.31,0,0,0,8.1,4.9,5.31,5.31,0,0,0,12,6.5,5.46,5.46,0,0,0,6.5,12Z\"/>\n",
              "  </svg>\n",
              "    </button>\n",
              "    <script>\n",
              "      (() => {\n",
              "      const buttonEl =\n",
              "        document.querySelector('#id_f32f7aa6-9a72-46aa-a588-a95f07afb002 button.colab-df-generate');\n",
              "      buttonEl.style.display =\n",
              "        google.colab.kernel.accessAllowed ? 'block' : 'none';\n",
              "\n",
              "      buttonEl.onclick = () => {\n",
              "        google.colab.notebook.generateWithVariable('calc_df');\n",
              "      }\n",
              "      })();\n",
              "    </script>\n",
              "  </div>\n",
              "\n",
              "    </div>\n",
              "  </div>\n"
            ],
            "application/vnd.google.colaboratory.intrinsic+json": {
              "type": "dataframe",
              "variable_name": "calc_df",
              "summary": "{\n  \"name\": \"calc_df\",\n  \"rows\": 251,\n  \"fields\": [\n    {\n      \"column\": \"Date\",\n      \"properties\": {\n        \"dtype\": \"date\",\n        \"min\": \"2023-05-16 00:00:00-04:00\",\n        \"max\": \"2024-05-14 00:00:00-04:00\",\n        \"num_unique_values\": 251,\n        \"samples\": [\n          \"2023-12-27 00:00:00-05:00\",\n          \"2023-05-24 00:00:00-04:00\",\n          \"2024-01-10 00:00:00-05:00\"\n        ],\n        \"semantic_type\": \"\",\n        \"description\": \"\"\n      }\n    },\n    {\n      \"column\": \"S\",\n      \"properties\": {\n        \"dtype\": \"number\",\n        \"std\": 1.4331565603545058,\n        \"min\": 14.716437339782715,\n        \"max\": 20.610000610351562,\n        \"num_unique_values\": 206,\n        \"samples\": [\n          15.241249084472656,\n          15.485859870910645,\n          16.770000457763672\n        ],\n        \"semantic_type\": \"\",\n        \"description\": \"\"\n      }\n    },\n    {\n      \"column\": \"log_S\",\n      \"properties\": {\n        \"dtype\": \"number\",\n        \"std\": 0.08118288705863574,\n        \"min\": 2.688965055459725,\n        \"max\": 3.025776424516708,\n        \"num_unique_values\": 206,\n        \"samples\": [\n          2.72400550782329,\n          2.7399273411641083,\n          2.8195916031316988\n        ],\n        \"semantic_type\": \"\",\n        \"description\": \"\"\n      }\n    },\n    {\n      \"column\": \"prev_log_S\",\n      \"properties\": {\n        \"dtype\": \"number\",\n        \"std\": 0.08173372553738278,\n        \"min\": 2.688965055459725,\n        \"max\": 3.025776424516708,\n        \"num_unique_values\": 207,\n        \"samples\": [\n          3.004692030048148,\n          2.7368757201079728,\n          2.8835082939969454\n        ],\n        \"semantic_type\": \"\",\n        \"description\": \"\"\n      }\n    },\n    {\n      \"column\": \"r\",\n      \"properties\": {\n        \"dtype\": \"number\",\n        \"std\": 0.014792108662222168,\n        \"min\": -0.08788437687422812,\n        \"max\": 0.05023386007033093,\n        \"num_unique_values\": 249,\n        \"samples\": [\n          0.010204187827981936,\n          0.0019298861280088175,\n          0.009700431864315018\n        ],\n        \"semantic_type\": \"\",\n        \"description\": \"\"\n      }\n    }\n  ]\n}"
            }
          },
          "metadata": {},
          "execution_count": 12
        }
      ]
    },
    {
      "cell_type": "code",
      "source": [
        "prev_x = 0\n",
        "prev_sx = 0\n",
        "\n",
        "data_list = [[S0, 0, 0, 0]]\n",
        "\n",
        "for idx, (S, r) in calc_df[['S', 'r']].iterrows():\n",
        "    pred_x = prev_x\n",
        "    pred_sx = prev_sx + sigma_x ** 2\n",
        "    pred_sigma_x = np.sqrt(pred_sx)\n",
        "    K = pred_sx / (pred_sx + sigma_m **2)\n",
        "    x = pred_x + K * (r - pred_x)\n",
        "    sx = (1 - K) * pred_sx\n",
        "    prev_x = x\n",
        "    prev_sx = sx\n",
        "    data_list += [[S, r, pred_x, pred_sigma_x]]"
      ],
      "metadata": {
        "id": "4QJgf-EtrX1o"
      },
      "execution_count": null,
      "outputs": []
    },
    {
      "cell_type": "code",
      "source": [
        "filtered_df = pd.DataFrame(data_list, columns = ['S', 'r', 'x', 'sigma_x'])"
      ],
      "metadata": {
        "id": "Tmo7_x1Xrer9"
      },
      "execution_count": null,
      "outputs": []
    },
    {
      "cell_type": "code",
      "source": [
        "filtered_df.eval('ux = x + 3 * sigma_x', inplace = True)\n",
        "filtered_df.eval('lx = x - 3 * sigma_x', inplace = True)"
      ],
      "metadata": {
        "id": "Hb9DwmGQ3On-"
      },
      "execution_count": null,
      "outputs": []
    },
    {
      "cell_type": "code",
      "source": [
        "filtered_df['prev_S'] = filtered_df['S'].shift(1)"
      ],
      "metadata": {
        "id": "EnwJy8-A1vgs"
      },
      "execution_count": null,
      "outputs": []
    },
    {
      "cell_type": "code",
      "source": [
        "filtered_df.dropna(inplace = True)"
      ],
      "metadata": {
        "id": "PoUmNxJ14mBo"
      },
      "execution_count": null,
      "outputs": []
    },
    {
      "cell_type": "code",
      "source": [
        "filtered_df.eval('pred_S = prev_S * exp(x)', inplace = True)\n",
        "filtered_df.eval('pred_lS = prev_S * exp(lx)', inplace = True)\n",
        "filtered_df.eval('pred_uS = prev_S * exp(ux)', inplace = True)"
      ],
      "metadata": {
        "id": "GdaNyasS5c4k"
      },
      "execution_count": null,
      "outputs": []
    },
    {
      "cell_type": "code",
      "source": [
        "filtered_df.reset_index(inplace = True)"
      ],
      "metadata": {
        "id": "u3Nx41625oac"
      },
      "execution_count": null,
      "outputs": []
    },
    {
      "cell_type": "code",
      "source": [
        "sns.scatterplot(x = 'index', y = 'S', data = filtered_df, color = 'black')\n",
        "sns.lineplot(x = 'index', y = 'pred_S', data = filtered_df, color = 'blue')\n",
        "sns.lineplot(x = 'index', y = 'pred_lS', data = filtered_df, color = 'red')\n",
        "sns.lineplot(x = 'index', y = 'pred_uS', data = filtered_df, color = 'green')"
      ],
      "metadata": {
        "colab": {
          "base_uri": "https://localhost:8080/",
          "height": 466
        },
        "id": "DJUo68yE5-9Y",
        "outputId": "fe124aec-6ab3-4ce7-dcc6-98b82580e349"
      },
      "execution_count": null,
      "outputs": [
        {
          "output_type": "execute_result",
          "data": {
            "text/plain": [
              "<Axes: xlabel='index', ylabel='S'>"
            ]
          },
          "metadata": {},
          "execution_count": 20
        },
        {
          "output_type": "display_data",
          "data": {
            "text/plain": [
              "<Figure size 640x480 with 1 Axes>"
            ],
            "image/png": "[encoded data removed]"
          },
          "metadata": {}
        }
      ]
    }
  ]
}